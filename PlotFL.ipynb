{
 "cells": [
  {
   "cell_type": "code",
   "execution_count": null,
   "metadata": {
    "ExecuteTime": {
     "end_time": "2017-06-07T10:12:10.579947",
     "start_time": "2017-06-07T10:12:09.048696"
    },
    "collapsed": false,
    "run_control": {
     "frozen": false,
     "read_only": false
    }
   },
   "outputs": [],
   "source": [
    "import numpy as np\n",
    "from matplotlib import pyplot as plt\n",
    "from matplotlib.dates import DateFormatter\n",
    "from matplotlib.ticker import MultipleLocator, FormatStrFormatter\n",
    "import matplotlib.dates as mdates\n",
    "import sys\n",
    "sys.path.append('/Users/danstechman/GoogleDrive/School/Research/PECAN/FlightLevel/FLplot/')\n",
    "\n",
    "from getFLpathData import getFLpathData as getFL\n",
    "\n",
    "%matplotlib inline"
   ]
  },
  {
   "cell_type": "code",
   "execution_count": null,
   "metadata": {
    "ExecuteTime": {
     "end_time": "2017-06-07T10:12:11.314703",
     "start_time": "2017-06-07T10:12:10.582515"
    },
    "collapsed": false,
    "run_control": {
     "frozen": false,
     "read_only": false
    }
   },
   "outputs": [],
   "source": [
    "flight = '20150706'\n",
    "\n",
    "optID = 'PDD6' # Leave as empty quotes if you don't want an extra ID in plot title\n",
    "\n",
    "pddSprlTimes = np.load('/Users/danstechman/GoogleDrive/School/Research/PECAN/' \n",
    "                       'Radar/code/samuraiAnalysis/pecan_PDD-Sprl_times/' + flight +\n",
    "                       '_pddSprl_times.npy')[()]\n",
    "flS = pddSprlTimes['I20P_strtDT'][5] # Change I20P(S) to U4P(S) for 20150620\n",
    "flE = pddSprlTimes['I20P_endDT'][5]\n",
    "flData = getFL('/Users/danstechman/GoogleDrive/PECAN-Data/FlightLevelData/Processed/' +\n",
    "               flight + '_FltLvl_Processed.nc',flS,flE)"
   ]
  },
  {
   "cell_type": "code",
   "execution_count": null,
   "metadata": {
    "ExecuteTime": {
     "end_time": "2017-06-06T13:22:32.301065",
     "start_time": "2017-06-06T13:22:32.295735"
    },
    "collapsed": false,
    "run_control": {
     "frozen": false,
     "read_only": false
    }
   },
   "outputs": [],
   "source": [
    "flData.keys()"
   ]
  },
  {
   "cell_type": "code",
   "execution_count": null,
   "metadata": {
    "ExecuteTime": {
     "end_time": "2017-06-07T12:02:28.031458",
     "start_time": "2017-06-07T12:02:24.407403"
    },
    "collapsed": false,
    "run_control": {
     "frozen": false,
     "read_only": false
    }
   },
   "outputs": [],
   "source": [
    "fig, (ax1,ax2,ax3,ax4,ax5) = plt.subplots(5,1,sharex=True,figsize=[15,25])\n",
    "\n",
    "if optID is not '':\n",
    "    ax1.set_title('{} - Flight-Level Data - {}\\n{} - {} UTC'.format(flight,optID,flS.strftime('%H:%M:%S'),\n",
    "              flE.strftime('%H:%M:%S')),fontsize=24)\n",
    "else:\n",
    "    ax1.set_title('{} - Flight-Level Data\\n{} - {} UTC'.format(flight,flS.strftime('%H:%M:%S'),flE.strftime('%H:%M:%S')),\n",
    "                  fontsize=24)\n",
    "\n",
    "### Altitude ###\n",
    "ax1.plot_date(flData['datetime'],flData['alt'],'r-',lw=2)\n",
    "ax1.yaxis.set_major_formatter(FormatStrFormatter('%.0f'))\n",
    "ax1.minorticks_on()\n",
    "\n",
    "ax1.grid(which='major',linewidth=1)\n",
    "ax1.grid(which='minor',linewidth=0.25)\n",
    "\n",
    "ax1.set_ylabel('Altitude ($m\\ MSL$)',fontsize=18)\n",
    "[tl.set_fontsize(16) for tl in ax1.get_yticklabels()]\n",
    "\n",
    "    \n",
    "### Temperature ###\n",
    "ax2.plot_date(flData['datetime'],flData['temp'],'b-',label='Temp',lw=2)\n",
    "ax2.plot_date(flData['datetime'],flData['td'],'g-',label='Dewpt',lw=2)\n",
    "ax2.minorticks_on()\n",
    "ax2.legend()\n",
    "\n",
    "ax2.grid(which='major',linewidth=1)\n",
    "ax2.grid(which='minor',linewidth=0.25)\n",
    "\n",
    "ax2.set_ylabel('Temperature ($^\\circ C$)',fontsize=18)\n",
    "[tl.set_fontsize(16) for tl in ax2.get_yticklabels()]\n",
    "\n",
    "\n",
    "### RH ###\n",
    "ax3.plot_date(flData['datetime'],flData['rh'],'c-',lw=2)\n",
    "# ax3.yaxis.set_major_formatter(FormatStrFormatter('%.0f'))\n",
    "ax3.minorticks_on()\n",
    "\n",
    "ax3.grid(which='major',linewidth=1)\n",
    "ax3.grid(which='minor',linewidth=0.25)\n",
    "\n",
    "ax3.set_ylabel('RH/RH$_i$ Hybrid ($\\%$)',fontsize=18)\n",
    "[tl.set_fontsize(16) for tl in ax3.get_yticklabels()]\n",
    "\n",
    "\n",
    "### Pressure ###\n",
    "# ax4.plot_date(flData['datetime'],flData['dynamicPres'],'r-',label='Dynamic',lw=2)\n",
    "ax4.plot_date(flData['datetime'],flData['staticPres'],'b-',label='Static',lw=2)\n",
    "ax4.yaxis.set_major_formatter(FormatStrFormatter('%.1f'))\n",
    "ax4.minorticks_on()\n",
    "# ax4.legend()\n",
    "\n",
    "ax4.grid(which='major',linewidth=1)\n",
    "ax4.grid(which='minor',linewidth=0.25)\n",
    "\n",
    "ax4.set_ylabel('Pressure ($mb$)',fontsize=18)\n",
    "[tl.set_fontsize(16) for tl in ax4.get_yticklabels()]\n",
    "\n",
    "\n",
    "### Wind Speed and Direction ###\n",
    "ax5.plot_date(flData['datetime'],flData['windSpd'],'k-',lw=2)\n",
    "# ax5.yaxis.set_major_formatter(FormatStrFormatter('%.0f'))\n",
    "ax5.minorticks_on()\n",
    "\n",
    "ax5.grid(which='major',linewidth=1)\n",
    "ax5.grid(which='minor',linewidth=0.25)\n",
    "\n",
    "ax5.set_ylabel('Wind Speed ($m\\ s^{-1}$)',fontsize=18,color='k')\n",
    "[tl.set_color('k') for tl in ax5.get_yticklabels()]\n",
    "[tl.set_fontsize(16) for tl in ax5.get_yticklabels()]\n",
    "\n",
    "ax55 = ax5.twinx()\n",
    "ax55.plot_date(flData['datetime'],flData['windDir'],'r.',ms=8)\n",
    "ax55.set_ylim([0,360])\n",
    "[tl.set_color('r') for tl in ax55.get_yticklabels()]\n",
    "[tl.set_fontsize(16) for tl in ax55.get_yticklabels()]\n",
    "ax55.set_ylabel('Wind Direction ($^\\circ$)',color='r',fontsize=18)\n",
    "\n",
    "\n",
    "# ax2.xaxis.set_major_formatter(DateFormatter('%H:%M:%S'))\n",
    "# ax2.set_xlabel('Time (UTC)',fontsize=18)\n",
    "# [tl.set_fontsize(16) for tl in ax2.get_xticklabels()]\n",
    "\n",
    "fig.autofmt_xdate()\n",
    "plt.tight_layout()"
   ]
  }
 ],
 "metadata": {
  "anaconda-cloud": {},
  "kernelspec": {
   "display_name": "Python [conda root]",
   "language": "python",
   "name": "conda-root-py"
  },
  "language_info": {
   "codemirror_mode": {
    "name": "ipython",
    "version": 3
   },
   "file_extension": ".py",
   "mimetype": "text/x-python",
   "name": "python",
   "nbconvert_exporter": "python",
   "pygments_lexer": "ipython3",
   "version": "3.5.2"
  }
 },
 "nbformat": 4,
 "nbformat_minor": 1
}
